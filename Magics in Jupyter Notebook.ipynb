{
 "cells": [
  {
   "cell_type": "code",
   "execution_count": 4,
   "id": "603549b7",
   "metadata": {},
   "outputs": [
    {
     "data": {
      "application/json": {
       "cell": {
        "!": "OSMagics",
        "HTML": "Other",
        "SVG": "Other",
        "bash": "Other",
        "capture": "ExecutionMagics",
        "cmd": "Other",
        "debug": "ExecutionMagics",
        "file": "Other",
        "html": "DisplayMagics",
        "javascript": "DisplayMagics",
        "js": "DisplayMagics",
        "latex": "DisplayMagics",
        "markdown": "DisplayMagics",
        "perl": "Other",
        "prun": "ExecutionMagics",
        "pypy": "Other",
        "python": "Other",
        "python2": "Other",
        "python3": "Other",
        "ruby": "Other",
        "script": "ScriptMagics",
        "sh": "Other",
        "svg": "DisplayMagics",
        "sx": "OSMagics",
        "system": "OSMagics",
        "time": "ExecutionMagics",
        "timeit": "ExecutionMagics",
        "writefile": "OSMagics"
       },
       "line": {
        "alias": "OSMagics",
        "alias_magic": "BasicMagics",
        "autoawait": "AsyncMagics",
        "autocall": "AutoMagics",
        "automagic": "AutoMagics",
        "autosave": "KernelMagics",
        "bookmark": "OSMagics",
        "cd": "OSMagics",
        "clear": "KernelMagics",
        "cls": "KernelMagics",
        "colors": "BasicMagics",
        "conda": "PackagingMagics",
        "config": "ConfigMagics",
        "connect_info": "KernelMagics",
        "copy": "Other",
        "ddir": "Other",
        "debug": "ExecutionMagics",
        "dhist": "OSMagics",
        "dirs": "OSMagics",
        "doctest_mode": "BasicMagics",
        "echo": "Other",
        "ed": "Other",
        "edit": "KernelMagics",
        "env": "OSMagics",
        "gui": "BasicMagics",
        "hist": "Other",
        "history": "HistoryMagics",
        "killbgscripts": "ScriptMagics",
        "ldir": "Other",
        "less": "KernelMagics",
        "load": "CodeMagics",
        "load_ext": "ExtensionMagics",
        "loadpy": "CodeMagics",
        "logoff": "LoggingMagics",
        "logon": "LoggingMagics",
        "logstart": "LoggingMagics",
        "logstate": "LoggingMagics",
        "logstop": "LoggingMagics",
        "ls": "Other",
        "lsmagic": "BasicMagics",
        "macro": "ExecutionMagics",
        "magic": "BasicMagics",
        "matplotlib": "PylabMagics",
        "mkdir": "Other",
        "more": "KernelMagics",
        "notebook": "BasicMagics",
        "page": "BasicMagics",
        "pastebin": "CodeMagics",
        "pdb": "ExecutionMagics",
        "pdef": "NamespaceMagics",
        "pdoc": "NamespaceMagics",
        "pfile": "NamespaceMagics",
        "pinfo": "NamespaceMagics",
        "pinfo2": "NamespaceMagics",
        "pip": "PackagingMagics",
        "popd": "OSMagics",
        "pprint": "BasicMagics",
        "precision": "BasicMagics",
        "prun": "ExecutionMagics",
        "psearch": "NamespaceMagics",
        "psource": "NamespaceMagics",
        "pushd": "OSMagics",
        "pwd": "OSMagics",
        "pycat": "OSMagics",
        "pylab": "PylabMagics",
        "qtconsole": "KernelMagics",
        "quickref": "BasicMagics",
        "recall": "HistoryMagics",
        "rehashx": "OSMagics",
        "reload_ext": "ExtensionMagics",
        "ren": "Other",
        "rep": "Other",
        "rerun": "HistoryMagics",
        "reset": "NamespaceMagics",
        "reset_selective": "NamespaceMagics",
        "rmdir": "Other",
        "run": "ExecutionMagics",
        "save": "CodeMagics",
        "sc": "OSMagics",
        "set_env": "OSMagics",
        "store": "StoreMagics",
        "sx": "OSMagics",
        "system": "OSMagics",
        "tb": "ExecutionMagics",
        "time": "ExecutionMagics",
        "timeit": "ExecutionMagics",
        "unalias": "OSMagics",
        "unload_ext": "ExtensionMagics",
        "who": "NamespaceMagics",
        "who_ls": "NamespaceMagics",
        "whos": "NamespaceMagics",
        "xdel": "NamespaceMagics",
        "xmode": "BasicMagics"
       }
      },
      "text/plain": [
       "Available line magics:\n",
       "%alias  %alias_magic  %autoawait  %autocall  %automagic  %autosave  %bookmark  %cd  %clear  %cls  %colors  %conda  %config  %connect_info  %copy  %ddir  %debug  %dhist  %dirs  %doctest_mode  %echo  %ed  %edit  %env  %gui  %hist  %history  %killbgscripts  %ldir  %less  %load  %load_ext  %loadpy  %logoff  %logon  %logstart  %logstate  %logstop  %ls  %lsmagic  %macro  %magic  %matplotlib  %mkdir  %more  %notebook  %page  %pastebin  %pdb  %pdef  %pdoc  %pfile  %pinfo  %pinfo2  %pip  %popd  %pprint  %precision  %prun  %psearch  %psource  %pushd  %pwd  %pycat  %pylab  %qtconsole  %quickref  %recall  %rehashx  %reload_ext  %ren  %rep  %rerun  %reset  %reset_selective  %rmdir  %run  %save  %sc  %set_env  %store  %sx  %system  %tb  %time  %timeit  %unalias  %unload_ext  %who  %who_ls  %whos  %xdel  %xmode\n",
       "\n",
       "Available cell magics:\n",
       "%%!  %%HTML  %%SVG  %%bash  %%capture  %%cmd  %%debug  %%file  %%html  %%javascript  %%js  %%latex  %%markdown  %%perl  %%prun  %%pypy  %%python  %%python2  %%python3  %%ruby  %%script  %%sh  %%svg  %%sx  %%system  %%time  %%timeit  %%writefile\n",
       "\n",
       "Automagic is ON, % prefix IS NOT needed for line magics."
      ]
     },
     "execution_count": 4,
     "metadata": {},
     "output_type": "execute_result"
    }
   ],
   "source": [
    "%lsmagic"
   ]
  },
  {
   "cell_type": "code",
   "execution_count": 5,
   "id": "147e98c1",
   "metadata": {},
   "outputs": [
    {
     "name": "stdout",
     "output_type": "stream",
     "text": [
      "C:\\Users\\skusawa\n"
     ]
    }
   ],
   "source": [
    "%cd"
   ]
  },
  {
   "cell_type": "code",
   "execution_count": 6,
   "id": "613092a9",
   "metadata": {},
   "outputs": [
    {
     "name": "stdout",
     "output_type": "stream",
     "text": [
      "Total number of aliases: 8\n"
     ]
    },
    {
     "data": {
      "text/plain": [
       "[('copy', 'copy'),\n",
       " ('ddir', 'dir /ad /on'),\n",
       " ('echo', 'echo'),\n",
       " ('ldir', 'dir /ad /on'),\n",
       " ('ls', 'dir /on'),\n",
       " ('mkdir', 'mkdir'),\n",
       " ('ren', 'ren'),\n",
       " ('rmdir', 'rmdir')]"
      ]
     },
     "execution_count": 6,
     "metadata": {},
     "output_type": "execute_result"
    }
   ],
   "source": [
    "%alias"
   ]
  },
  {
   "cell_type": "code",
   "execution_count": 7,
   "id": "9e40a7ec",
   "metadata": {},
   "outputs": [
    {
     "name": "stdout",
     "output_type": "stream",
     "text": [
      "%lsmagics\n",
      "%%lsmagics\n",
      "%%lsmagic\n",
      "%lsmagic\n",
      "%cd\n",
      "%alias\n",
      "%history\n"
     ]
    }
   ],
   "source": [
    "%history"
   ]
  },
  {
   "cell_type": "code",
   "execution_count": 8,
   "id": "17aaed40",
   "metadata": {},
   "outputs": [
    {
     "name": "stdout",
     "output_type": "stream",
     "text": [
      "Data Magic\n"
     ]
    }
   ],
   "source": [
    "print(\"Data Magic\")"
   ]
  },
  {
   "cell_type": "code",
   "execution_count": 9,
   "id": "de37aa77",
   "metadata": {},
   "outputs": [
    {
     "name": "stdout",
     "output_type": "stream",
     "text": [
      "%lsmagics\n",
      "%%lsmagics\n",
      "%%lsmagic\n",
      "%lsmagic\n",
      "%cd\n",
      "%alias\n",
      "%history\n",
      "print(\"Data Magic\")\n",
      "%history\n"
     ]
    }
   ],
   "source": [
    "%history"
   ]
  },
  {
   "cell_type": "code",
   "execution_count": 11,
   "id": "f13f8d46",
   "metadata": {},
   "outputs": [
    {
     "data": {
      "text/html": [
       "<div> hello Data Magic</div>\n"
      ],
      "text/plain": [
       "<IPython.core.display.HTML object>"
      ]
     },
     "metadata": {},
     "output_type": "display_data"
    }
   ],
   "source": [
    "%%html\n",
    "<div> hello Data Magic</div>"
   ]
  },
  {
   "cell_type": "code",
   "execution_count": 12,
   "id": "2746bdcc",
   "metadata": {},
   "outputs": [
    {
     "data": {
      "text/html": [
       "<marquee style='width: 30%; color: blue;'><b>Data Magic!</b></marquee>\n"
      ],
      "text/plain": [
       "<IPython.core.display.HTML object>"
      ]
     },
     "metadata": {},
     "output_type": "display_data"
    }
   ],
   "source": [
    "%%html\n",
    "<marquee style='width: 30%; color: blue;'><b>Data Magic!</b></marquee>"
   ]
  },
  {
   "cell_type": "code",
   "execution_count": 14,
   "id": "b20b7eeb",
   "metadata": {},
   "outputs": [
    {
     "name": "stdout",
     "output_type": "stream",
     "text": [
      "CPU times: total: 0 ns\n",
      "Wall time: 5.24 ms\n"
     ]
    },
    {
     "data": {
      "text/plain": [
       "array([50.34995144+0.j        , -3.19985308+0.j        ,\n",
       "       -0.41147681+2.96213042j, -0.41147681-2.96213042j,\n",
       "        2.79845658+0.21614095j,  2.79845658-0.21614095j,\n",
       "       -2.65541279+0.j        ,  2.22113268+1.46890653j,\n",
       "        2.22113268-1.46890653j,  2.43545496+0.98999341j,\n",
       "        2.43545496-0.98999341j,  2.49576616+0.78872547j,\n",
       "        2.49576616-0.78872547j, -1.37408305+2.29596773j,\n",
       "       -1.37408305-2.29596773j, -2.47713083+0.77278017j,\n",
       "       -2.47713083-0.77278017j,  1.65142341+1.8205933j ,\n",
       "        1.65142341-1.8205933j , -1.8545204 +1.62807009j,\n",
       "       -1.8545204 -1.62807009j,  1.25164151+2.13500163j,\n",
       "        1.25164151-2.13500163j, -0.56311829+2.41219316j,\n",
       "       -0.56311829-2.41219316j,  1.04280974+2.17890165j,\n",
       "        1.04280974-2.17890165j, -0.87697049+2.26506132j,\n",
       "       -0.87697049-2.26506132j,  0.3644898 +2.40300459j,\n",
       "        0.3644898 -2.40300459j,  2.2446287 +0.30634437j,\n",
       "        2.2446287 -0.30634437j,  1.99128105+1.05966696j,\n",
       "        1.99128105-1.05966696j, -2.2496963 +0.99355834j,\n",
       "       -2.2496963 -0.99355834j,  1.8584935 +1.03079395j,\n",
       "        1.8584935 -1.03079395j,  0.19881001+2.24157878j,\n",
       "        0.19881001-2.24157878j,  0.70404448+2.09231722j,\n",
       "        0.70404448-2.09231722j,  1.21422715+1.68876234j,\n",
       "        1.21422715-1.68876234j, -2.23199236+0.j        ,\n",
       "        1.3181597 +1.4838935j ,  1.3181597 -1.4838935j ,\n",
       "       -1.70344266+1.35859199j, -1.70344266-1.35859199j,\n",
       "        0.52083041+1.93879533j,  0.52083041-1.93879533j,\n",
       "       -0.93953452+1.85082416j, -0.93953452-1.85082416j,\n",
       "       -2.07481359+0.j        , -1.75452875+0.99626864j,\n",
       "       -1.75452875-0.99626864j, -0.33339169+1.89011026j,\n",
       "       -0.33339169-1.89011026j, -1.96742908+0.1733303j ,\n",
       "       -1.96742908-0.1733303j ,  1.78122435+0.0799561j ,\n",
       "        1.78122435-0.0799561j , -1.0249641 +1.40450901j,\n",
       "       -1.0249641 -1.40450901j, -1.10923958+1.20383331j,\n",
       "       -1.10923958-1.20383331j, -0.16116827+1.46716037j,\n",
       "       -0.16116827-1.46716037j, -1.43762691+0.44234673j,\n",
       "       -1.43762691-0.44234673j,  0.82343813+0.89680663j,\n",
       "        0.82343813-0.89680663j,  1.03465744+0.618147j  ,\n",
       "        1.03465744-0.618147j  ,  0.62620534+1.05296798j,\n",
       "        0.62620534-1.05296798j, -0.3613943 +1.12741274j,\n",
       "       -0.3613943 -1.12741274j, -1.12435354+0.62824862j,\n",
       "       -1.12435354-0.62824862j, -0.75355942+0.99325167j,\n",
       "       -0.75355942-0.99325167j,  0.98371545+0.27411493j,\n",
       "        0.98371545-0.27411493j, -0.76044211+0.76394217j,\n",
       "       -0.76044211-0.76394217j,  0.14274661+0.92671053j,\n",
       "        0.14274661-0.92671053j, -0.7918375 +0.48462791j,\n",
       "       -0.7918375 -0.48462791j,  0.91850374+0.j        ,\n",
       "       -0.75953925+0.j        ,  0.24910918+0.8648162j ,\n",
       "        0.24910918-0.8648162j ,  0.67536121+0.08409617j,\n",
       "        0.67536121-0.08409617j,  0.16996207+0.j        ,\n",
       "       -0.22849548+0.16924821j, -0.22849548-0.16924821j])"
      ]
     },
     "execution_count": 14,
     "metadata": {},
     "output_type": "execute_result"
    }
   ],
   "source": [
    "import numpy as np\n",
    "%time np.linalg.eigvals(np.random.rand(100,100))"
   ]
  },
  {
   "cell_type": "code",
   "execution_count": 15,
   "id": "1ddecdbc",
   "metadata": {},
   "outputs": [
    {
     "name": "stdout",
     "output_type": "stream",
     "text": [
      "4.49 ms ± 30.2 µs per loop (mean ± std. dev. of 7 runs, 100 loops each)\n"
     ]
    }
   ],
   "source": [
    "%timeit np.linalg.eigvals(np.random.rand(100,100))"
   ]
  },
  {
   "cell_type": "code",
   "execution_count": null,
   "id": "22c1da3e",
   "metadata": {},
   "outputs": [],
   "source": []
  }
 ],
 "metadata": {
  "kernelspec": {
   "display_name": "Python 3 (ipykernel)",
   "language": "python",
   "name": "python3"
  },
  "language_info": {
   "codemirror_mode": {
    "name": "ipython",
    "version": 3
   },
   "file_extension": ".py",
   "mimetype": "text/x-python",
   "name": "python",
   "nbconvert_exporter": "python",
   "pygments_lexer": "ipython3",
   "version": "3.10.6"
  }
 },
 "nbformat": 4,
 "nbformat_minor": 5
}
